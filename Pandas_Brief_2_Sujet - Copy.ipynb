{
  "cells": [
    {
      "cell_type": "code",
      "source": [
        "#Importez la librairie Pandas\n"
      ],
      "metadata": {
        "id": "edm6TbQqXeD6"
      },
      "execution_count": null,
      "outputs": []
    },
    {
      "cell_type": "code",
      "execution_count": null,
      "metadata": {
        "id": "wTO_z7ZgWg7z"
      },
      "outputs": [],
      "source": [
        "#Chargez le fichier \"Produits.xlsx\" de données dans un objet appelé \"data\"\n"
      ]
    },
    {
      "cell_type": "code",
      "execution_count": null,
      "metadata": {
        "id": "reWfScekWg70"
      },
      "outputs": [],
      "source": [
        "#Copiez data dans un autre object appelé df\n"
      ]
    },
    {
      "cell_type": "code",
      "execution_count": null,
      "metadata": {
        "id": "SErizSU0Wg71"
      },
      "outputs": [],
      "source": [
        "#Affichez les informations concernant l'objet df\n"
      ]
    },
    {
      "cell_type": "code",
      "source": [
        "#En vous basant sur les résultats de la question précédente, Combien y a-t-il d’observations et de variables dans le fichier  \n"
      ],
      "metadata": {
        "id": "zzRi1lkoYBkb"
      },
      "execution_count": null,
      "outputs": []
    },
    {
      "cell_type": "code",
      "execution_count": null,
      "metadata": {
        "id": "aNHqYzYlWg72"
      },
      "outputs": [],
      "source": [
        "#Affichez les 10 premières lignes des données de l'objet df\n"
      ]
    },
    {
      "cell_type": "code",
      "execution_count": null,
      "metadata": {
        "id": "2wdDztzpWg72"
      },
      "outputs": [],
      "source": [
        "#Supprimer la colonne \"Valeur\"\n"
      ]
    },
    {
      "cell_type": "code",
      "execution_count": null,
      "metadata": {
        "id": "Wu95TYB_Wg73"
      },
      "outputs": [],
      "source": [
        "#Afficher les statistiques descriptives pour les variables quantitatives de l'objet df\n"
      ]
    },
    {
      "cell_type": "code",
      "execution_count": null,
      "metadata": {
        "id": "ps1rz2ZcWg75"
      },
      "outputs": [],
      "source": [
        "#Afficher les statistiques descriptives pour les variables qualitatives de l'objet df\n"
      ]
    },
    {
      "cell_type": "code",
      "execution_count": null,
      "metadata": {
        "id": "pz3ygcRAWg76"
      },
      "outputs": [],
      "source": [
        "#On veut afficher les produits dont la catégorie = boissons"
      ]
    },
    {
      "cell_type": "code",
      "execution_count": null,
      "metadata": {
        "id": "EginpC53Wg77"
      },
      "outputs": [],
      "source": [
        "#On veut afficher les produits dont la Catégorie = boissons et le prix >100"
      ]
    },
    {
      "cell_type": "code",
      "execution_count": null,
      "metadata": {
        "id": "sN1iLbdtWg77"
      },
      "outputs": [],
      "source": [
        "#On veut afficher les produits dont la Catégorie = boissons et l'origine=CEE et prix > 100\n"
      ]
    },
    {
      "cell_type": "code",
      "execution_count": null,
      "metadata": {
        "id": "YcyGYPxpWg78"
      },
      "outputs": [],
      "source": [
        "#On veut afficher les produits dont la (Catégorie = boissons et origine = CEE) OU (catégorie = condiment)"
      ]
    },
    {
      "cell_type": "code",
      "execution_count": null,
      "metadata": {
        "id": "8EQjN4kfWg78"
      },
      "outputs": [],
      "source": [
        "#On veut afficher les produits dont (Catégorie = viande ET origine = CEE) OU (catégorie = condiment ET origine = extérieur)\n"
      ]
    },
    {
      "cell_type": "code",
      "execution_count": null,
      "metadata": {
        "id": "FKtt2Bs2Wg79"
      },
      "outputs": [],
      "source": [
        "#On veut afficher les produits dont le prix > 70 et prix <=100\n"
      ]
    },
    {
      "cell_type": "code",
      "execution_count": null,
      "metadata": {
        "id": "hQNemfBhWg79"
      },
      "outputs": [],
      "source": [
        "#Lister les aliments dont le prix est compris entre 100 et 200, et qui sont des « viandes »\n"
      ]
    },
    {
      "cell_type": "code",
      "execution_count": null,
      "metadata": {
        "id": "qzu2qvtrWg7-"
      },
      "outputs": [],
      "source": [
        "#Lister les 15 produits les moins chers"
      ]
    },
    {
      "cell_type": "code",
      "execution_count": null,
      "metadata": {
        "id": "yumCfxyPWg8f"
      },
      "outputs": [],
      "source": [
        "#Calculer la moyenne de prix des boissons distribuées à Lyon (pivot_table)"
      ]
    },
    {
      "cell_type": "code",
      "source": [
        "#Quels sont les 5 produits les moins chers vendus à Lyon ?\n"
      ],
      "metadata": {
        "id": "Ustt5CCJWtmW"
      },
      "execution_count": null,
      "outputs": []
    },
    {
      "cell_type": "code",
      "execution_count": null,
      "metadata": {
        "id": "BH3LTBaJWg8j"
      },
      "outputs": [],
      "source": [
        "#En utilisant une boucle afficher la representation graphique de toutes les variables quantitative\n"
      ]
    },
    {
      "cell_type": "code",
      "source": [
        "#En utilisant une boucle afficher la representation graphique de toutes les variables quanliative"
      ],
      "metadata": {
        "id": "oE6GAr80bb9a"
      },
      "execution_count": null,
      "outputs": []
    }
  ],
  "metadata": {
    "kernelspec": {
      "display_name": "Python 3 (ipykernel)",
      "language": "python",
      "name": "python3"
    },
    "language_info": {
      "codemirror_mode": {
        "name": "ipython",
        "version": 3
      },
      "file_extension": ".py",
      "mimetype": "text/x-python",
      "name": "python",
      "nbconvert_exporter": "python",
      "pygments_lexer": "ipython3",
      "version": "3.9.12"
    },
    "colab": {
      "provenance": []
    }
  },
  "nbformat": 4,
  "nbformat_minor": 0
}